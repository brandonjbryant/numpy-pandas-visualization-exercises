{
 "cells": [
  {
   "cell_type": "markdown",
   "metadata": {},
   "source": [
    "###  `Use the iris database to answer the following quesitons:`"
   ]
  },
  {
   "cell_type": "markdown",
   "metadata": {},
   "source": [
    "#### ` 1. What does the distribution of petal lengths look like?`"
   ]
  },
  {
   "cell_type": "markdown",
   "metadata": {},
   "source": [
    "#### `2. Is there a correlation between petal length and petal width?`"
   ]
  },
  {
   "cell_type": "markdown",
   "metadata": {},
   "source": [
    "#### ` 3. Would it be reasonable to predict species based on sepal width and sepal length?`"
   ]
  },
  {
   "cell_type": "markdown",
   "metadata": {},
   "source": [
    "#### ` 4. Which features would be best used to predict species?`"
   ]
  },
  {
   "cell_type": "code",
   "execution_count": null,
   "metadata": {},
   "outputs": [],
   "source": []
  },
  {
   "cell_type": "markdown",
   "metadata": {},
   "source": [
    "#### ` 1. Using the lesson as an example, use seaborn's load_dataset function to load the anscombe data set.`\n",
    "#####                          `Use pandas to group the data by the dataset column`\n",
    "#####                         `Calculate summary statistics for each dataset. What do you notice?`"
   ]
  },
  {
   "cell_type": "code",
   "execution_count": null,
   "metadata": {},
   "outputs": [],
   "source": []
  },
  {
   "cell_type": "markdown",
   "metadata": {},
   "source": [
    "#### `2. Load the InsectSprays dataset and read it's documentation. `\n",
    "####  `Create a boxplot that shows the effectiveness of the different insect sprays.`"
   ]
  },
  {
   "cell_type": "markdown",
   "metadata": {},
   "source": [
    "#### `3. Load the swiss dataset and read it's documentation. Create visualizations to answer the following questions: `\n",
    "\n"
   ]
  },
  {
   "cell_type": "markdown",
   "metadata": {},
   "source": [
    "##### `Create an attribute named is_catholic that holds a boolean value of whether or not the province is Catholic. `"
   ]
  },
  {
   "cell_type": "markdown",
   "metadata": {},
   "source": [
    "##### `Does whether or not a province is Catholic influence fertility?`"
   ]
  },
  {
   "cell_type": "markdown",
   "metadata": {},
   "source": [
    "##### `What measure correlates most strongly with fertility?`"
   ]
  },
  {
   "cell_type": "code",
   "execution_count": null,
   "metadata": {},
   "outputs": [],
   "source": []
  },
  {
   "cell_type": "markdown",
   "metadata": {},
   "source": [
    "####  `4. Using the chipotle dataset , create a bar chart that shows the 4 most popular items and the revenue produced by each.`\n",
    "\n"
   ]
  },
  {
   "cell_type": "code",
   "execution_count": null,
   "metadata": {},
   "outputs": [],
   "source": []
  },
  {
   "cell_type": "markdown",
   "metadata": {},
   "source": [
    "#### ` 5. Load the sleepstudy data and read it's documentation. `\n",
    "##### ` Use seaborn to create a line chart of all the individual subject's reaction times `\n",
    "##### ` And a more prominant line showing the average change in reaction time.`"
   ]
  }
 ],
 "metadata": {
  "kernelspec": {
   "display_name": "Python 3",
   "language": "python",
   "name": "python3"
  },
  "language_info": {
   "codemirror_mode": {
    "name": "ipython",
    "version": 3
   },
   "file_extension": ".py",
   "mimetype": "text/x-python",
   "name": "python",
   "nbconvert_exporter": "python",
   "pygments_lexer": "ipython3",
   "version": "3.8.5"
  }
 },
 "nbformat": 4,
 "nbformat_minor": 4
}
